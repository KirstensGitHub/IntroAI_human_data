{
 "cells": [
  {
   "cell_type": "markdown",
   "id": "061acd2d",
   "metadata": {},
   "source": [
    "# Imports"
   ]
  },
  {
   "cell_type": "code",
   "execution_count": 18,
   "id": "30558c52",
   "metadata": {},
   "outputs": [],
   "source": [
    "import random\n",
    "import os\n",
    "import pandas as pd"
   ]
  },
  {
   "cell_type": "markdown",
   "id": "6e35412c",
   "metadata": {},
   "source": [
    "# OpenAI"
   ]
  },
  {
   "cell_type": "code",
   "execution_count": 3,
   "id": "d62eabe3",
   "metadata": {},
   "outputs": [],
   "source": [
    "os.environ[\"OPENAI_API_KEY\"] = # \"aldfhapdfj\" <-- your OpenAI API key here\n",
    "from openai import OpenAI\n",
    "\n",
    "# if you need an API key: https://platform.openai.com/api-keys"
   ]
  },
  {
   "cell_type": "markdown",
   "id": "a3b95a2f",
   "metadata": {},
   "source": [
    "# Function for paraphrasing"
   ]
  },
  {
   "cell_type": "code",
   "execution_count": 4,
   "id": "fe81756f",
   "metadata": {},
   "outputs": [],
   "source": [
    "# Paraphrase function\n",
    "def paraphrase(sentence, n=10):\n",
    "    prompt = f\"Paraphrase the following sentence {n} different ways, preserving meaning:\\n\\n{sentence}\\n\\nReturn only the paraphrases, one per line.\"\n",
    "    response = client.chat.completions.create(\n",
    "        model=\"gpt-4o-mini\",\n",
    "        messages=[{\"role\": \"user\", \"content\": prompt}],\n",
    "        temperature=0.9\n",
    "    )\n",
    "    return [s.strip() for s in response.choices[0].message.content.split(\"\\n\") if s.strip()]"
   ]
  },
  {
   "cell_type": "markdown",
   "id": "98488568",
   "metadata": {},
   "source": [
    "# Paraphrase and save to new csv (n=9800)"
   ]
  },
  {
   "cell_type": "code",
   "execution_count": 21,
   "id": "4d34d2f3",
   "metadata": {},
   "outputs": [],
   "source": [
    "# Load original data\n",
    "df = pd.read_csv(\"/Users/kirstenziman/Desktop/humanData_firstPerson_980.csv\")\n",
    "\n",
    "# Create list for new rows\n",
    "expanded_rows = []\n",
    "\n",
    "for idx, row in df.iterrows():\n",
    "    print(idx)\n",
    "    base_data = {\n",
    "        \"subject\": row[\"subject\"],\n",
    "        \"image\": row[\"image\"],\n",
    "        \"image_set\": row[\"image_set\"],  \n",
    "        \"image_num\": row[\"image_num\"],       \n",
    "        \"judgment\": row[\"judgment\"]\n",
    "    }\n",
    "    \n",
    "    # Paraphrase attention\n",
    "    attention_variants = paraphrase(row[\"attention\"], n=10)\n",
    "    for att in attention_variants:\n",
    "        new_row = base_data.copy()\n",
    "        new_row[\"attention\"] = att\n",
    "        new_row[\"caption\"] = row[\"caption\"]\n",
    "        expanded_rows.append(new_row)\n",
    "    \n",
    "    # Paraphrase caption\n",
    "    caption_variants = paraphrase(row[\"caption\"], n=10)\n",
    "    for cap in caption_variants:\n",
    "        new_row = base_data.copy()\n",
    "        new_row[\"attention\"] = row[\"attention\"]\n",
    "        new_row[\"caption\"] = cap\n",
    "        expanded_rows.append(new_row)\n",
    "\n",
    "# Convert to DataFrame\n",
    "expanded_df = pd.DataFrame(expanded_rows)\n",
    "\n",
    "# Save to CSV\n",
    "expanded_df.to_csv(\"expandedData_firstPerson_x10.csv\", index=False)\n",
    "print(\"Expanded dataset saved as expandedData_firstPerson_x10.csv\")"
   ]
  },
  {
   "cell_type": "code",
   "execution_count": null,
   "id": "f23502ba",
   "metadata": {},
   "outputs": [],
   "source": []
  }
 ],
 "metadata": {
  "kernelspec": {
   "display_name": "Python 3 (ipykernel)",
   "language": "python",
   "name": "python3"
  },
  "language_info": {
   "codemirror_mode": {
    "name": "ipython",
    "version": 3
   },
   "file_extension": ".py",
   "mimetype": "text/x-python",
   "name": "python",
   "nbconvert_exporter": "python",
   "pygments_lexer": "ipython3",
   "version": "3.11.5"
  }
 },
 "nbformat": 4,
 "nbformat_minor": 5
}
